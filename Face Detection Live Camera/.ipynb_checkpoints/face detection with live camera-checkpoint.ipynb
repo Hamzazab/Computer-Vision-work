{
 "cells": [
  {
   "cell_type": "code",
   "execution_count": 1,
   "id": "c73408e1",
   "metadata": {},
   "outputs": [],
   "source": [
    "import cv2"
   ]
  },
  {
   "cell_type": "code",
   "execution_count": 2,
   "id": "6a1171d4",
   "metadata": {},
   "outputs": [],
   "source": [
    "facecascade = cv2.CascadeClassifier('012 haarcascade-frontalface-default.xml')"
   ]
  },
  {
   "cell_type": "code",
   "execution_count": 3,
   "id": "0503b5cc",
   "metadata": {},
   "outputs": [],
   "source": [
    "webcam = cv2.VideoCapture(0)\n",
    "while (True):\n",
    "    ret , frame = webcam.read()\n",
    "    gray = cv2.cvtColor(frame,cv2.COLOR_BGR2GRAY)\n",
    "    faces = facecascade.detectMultiScale(gray, scaleFactor=1.2, minNeighbors=5, minSize=(20,20))\n",
    "    for (x,y,w,h) in faces:\n",
    "         cv2.rectangle(frame,(x,y) , (x+w , y+h) , (255,0,0) , 2)\n",
    "    cv2.imshow('Hamza' , frame)\n",
    "    if cv2.waitKey(1) & 0xFF == ord ('q'):\n",
    "        break\n",
    "webcam.release()\n",
    "cv2.destroyAllWindows()"
   ]
  },
  {
   "cell_type": "code",
   "execution_count": null,
   "id": "61faa887",
   "metadata": {},
   "outputs": [],
   "source": []
  }
 ],
 "metadata": {
  "kernelspec": {
   "display_name": "Python 3 (ipykernel)",
   "language": "python",
   "name": "python3"
  },
  "language_info": {
   "codemirror_mode": {
    "name": "ipython",
    "version": 3
   },
   "file_extension": ".py",
   "mimetype": "text/x-python",
   "name": "python",
   "nbconvert_exporter": "python",
   "pygments_lexer": "ipython3",
   "version": "3.8.13"
  }
 },
 "nbformat": 4,
 "nbformat_minor": 5
}
