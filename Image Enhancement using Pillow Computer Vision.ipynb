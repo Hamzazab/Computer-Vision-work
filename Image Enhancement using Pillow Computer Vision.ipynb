{
 "cells": [
  {
   "cell_type": "code",
   "execution_count": 10,
   "id": "84a0e147",
   "metadata": {},
   "outputs": [],
   "source": [
    "from PIL import Image, ImageEnhance"
   ]
  },
  {
   "cell_type": "code",
   "execution_count": 11,
   "id": "648fcb73",
   "metadata": {},
   "outputs": [],
   "source": [
    "image = Image.open('C:/Users/Hamza/grey 3.jpg')\n"
   ]
  },
  {
   "cell_type": "code",
   "execution_count": 12,
   "id": "899754aa",
   "metadata": {},
   "outputs": [],
   "source": [
    "# Perform color correction (e.g., contrast adjustment)\n",
    "enhancer = ImageEnhance.Contrast(image)\n",
    "image_corrected = enhancer.enhance(1)\n"
   ]
  },
  {
   "cell_type": "code",
   "execution_count": 13,
   "id": "90982663",
   "metadata": {},
   "outputs": [],
   "source": [
    "from PIL import ImageFilter\n",
    "\n",
    "# Apply a Gaussian blur filter for noise reduction\n",
    "image_filtered = image_corrected.filter(ImageFilter.GaussianBlur(radius=0))\n"
   ]
  },
  {
   "cell_type": "code",
   "execution_count": 14,
   "id": "388246dd",
   "metadata": {},
   "outputs": [],
   "source": [
    "# Perform contrast enhancement (e.g., gamma correction)\n",
    "enhancer = ImageEnhance.Contrast(image_filtered)\n",
    "image_contrast = enhancer.enhance(1)\n"
   ]
  },
  {
   "cell_type": "code",
   "execution_count": 15,
   "id": "138c6287",
   "metadata": {},
   "outputs": [],
   "source": [
    "# Perform image sharpening (e.g., unsharp masking)\n",
    "enhancer = ImageEnhance.Sharpness(image_contrast)\n",
    "image_sharpened = enhancer.enhance(3)\n"
   ]
  },
  {
   "cell_type": "code",
   "execution_count": 16,
   "id": "9bac32c5",
   "metadata": {},
   "outputs": [],
   "source": [
    "# Apply smoothing (e.g., Gaussian blur with larger radius)\n",
    "smooth_radius = 0.5  # Adjust the radius as needed\n",
    "image_smooth = image_sharpened.filter(ImageFilter.GaussianBlur(radius=smooth_radius))"
   ]
  },
  {
   "cell_type": "code",
   "execution_count": 17,
   "id": "af30dc63",
   "metadata": {},
   "outputs": [],
   "source": [
    "# Save the enhanced and smoothed image\n",
    "image_smooth.save('enhanced_smoothed_image.jpg')"
   ]
  },
  {
   "cell_type": "code",
   "execution_count": 18,
   "id": "a4fab675",
   "metadata": {},
   "outputs": [],
   "source": [
    "# Display the original, enhanced, and smoothed images\n",
    "image.show()\n",
    "image_sharpened.show()\n",
    "image_smooth.show()"
   ]
  },
  {
   "cell_type": "code",
   "execution_count": null,
   "id": "7d8acfc8",
   "metadata": {},
   "outputs": [],
   "source": []
  },
  {
   "cell_type": "code",
   "execution_count": null,
   "id": "edfc5aa3",
   "metadata": {},
   "outputs": [],
   "source": []
  }
 ],
 "metadata": {
  "kernelspec": {
   "display_name": "Python 3 (ipykernel)",
   "language": "python",
   "name": "python3"
  },
  "language_info": {
   "codemirror_mode": {
    "name": "ipython",
    "version": 3
   },
   "file_extension": ".py",
   "mimetype": "text/x-python",
   "name": "python",
   "nbconvert_exporter": "python",
   "pygments_lexer": "ipython3",
   "version": "3.10.9"
  }
 },
 "nbformat": 4,
 "nbformat_minor": 5
}
